{
 "cells": [
  {
   "cell_type": "code",
   "execution_count": null,
   "id": "7c09d883",
   "metadata": {},
   "outputs": [],
   "source": [
    "%run \"Creat and Load SQL Data.ipynb\""
   ]
  },
  {
   "cell_type": "code",
   "execution_count": null,
   "id": "91f629c5",
   "metadata": {},
   "outputs": [],
   "source": [
    "# Top of the data. Only needed for referencing columns\n",
    "query = \"\"\"\n",
    "    SELECT *\n",
    "    FROM incentives\n",
    "    LIMIT 5\n",
    "\"\"\"\n",
    "df_head = pd.read_sql(query, engine)\n",
    "df_head"
   ]
  },
  {
   "cell_type": "code",
   "execution_count": null,
   "id": "bc23e480",
   "metadata": {},
   "outputs": [],
   "source": [
    "# how many incentives do we have by year?\n",
    "query = \"\"\"\n",
    "    SELECT Year, COUNT(Company_name) as Total_Incentives ,SUM(Jobs) Total_Jobs, AVG(Rebate_Rate) Average_Rebate_rate\n",
    "    FROM incentives\n",
    "    GROUP BY Year\n",
    "    ORDER BY Year DESC\n",
    "\"\"\"\n",
    "Companies_by_Year = pd.read_sql(query, engine)\n",
    "Companies_by_Year\n"
   ]
  },
  {
   "cell_type": "code",
   "execution_count": null,
   "id": "a4c9e034",
   "metadata": {},
   "outputs": [],
   "source": [
    "# Viewing the distribution between new and current in-state incentives.\n",
    "query = \"\"\"\n",
    "    SELECT Prior_presence, COUNT(Prior_presence)\n",
    "    FROM incentives\n",
    "    GROUP BY Prior_presence\n",
    "\"\"\"\n",
    "Companies_by_Prior_Presence = pd.read_sql(query, engine)\n",
    "Companies_by_Prior_Presence"
   ]
  },
  {
   "cell_type": "code",
   "execution_count": null,
   "id": "bdf9dba3",
   "metadata": {},
   "outputs": [],
   "source": [
    "# Querying Companies that were new to Utah\n",
    "query = \"\"\"\n",
    "    SELECT Term_years, COUNT(Term_years) AS totl\n",
    "    FROM incentives\n",
    "    WHERE Prior_presence = \"No\"\n",
    "    GROUP BY Term_years\n",
    "    Order BY Term_years DESC\n",
    "\"\"\"\n",
    "New_to_Utah = pd.read_sql(query, engine)\n",
    "New_to_Utah"
   ]
  },
  {
   "cell_type": "code",
   "execution_count": null,
   "id": "d1e3822a",
   "metadata": {},
   "outputs": [],
   "source": [
    "# This one is those companies that were in Utah previously \n",
    "query = \"\"\"\n",
    "    SELECT Term_years, COUNT(Term_years) AS total\n",
    "    FROM incentives\n",
    "    WHERE Prior_presence = \"Yes\"\n",
    "    GROUP BY Term_years\n",
    "    Order BY Term_years DESC\n",
    "\"\"\"\n",
    "Not_new2_Utah = pd.read_sql(query, engine)\n",
    "Not_new2_Utah"
   ]
  },
  {
   "cell_type": "code",
   "execution_count": null,
   "id": "bc30a344",
   "metadata": {},
   "outputs": [],
   "source": [
    "import seaborn as sns"
   ]
  },
  {
   "cell_type": "code",
   "execution_count": null,
   "id": "a73458ad",
   "metadata": {},
   "outputs": [],
   "source": [
    "sns.barplot(Not_new2_Utah,x = \"Term_years\", y = \"total\")"
   ]
  }
 ],
 "metadata": {
  "kernelspec": {
   "display_name": "Python 3 (ipykernel)",
   "language": "python",
   "name": "python3"
  },
  "language_info": {
   "codemirror_mode": {
    "name": "ipython",
    "version": 3
   },
   "file_extension": ".py",
   "mimetype": "text/x-python",
   "name": "python",
   "nbconvert_exporter": "python",
   "pygments_lexer": "ipython3",
   "version": "3.11.3"
  }
 },
 "nbformat": 4,
 "nbformat_minor": 5
}
