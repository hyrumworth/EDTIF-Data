{
 "cells": [
  {
   "cell_type": "markdown",
   "id": "ebd4dcba",
   "metadata": {},
   "source": [
    "# Extracting and Formatting the Data"
   ]
  },
  {
   "cell_type": "code",
   "execution_count": null,
   "id": "57a1ec81",
   "metadata": {},
   "outputs": [],
   "source": [
    "import requests\n",
    "from bs4 import BeautifulSoup\n",
    "r = requests.get('https://business.utah.gov/business-incentives/companies/')\n",
    "\n",
    "soup = BeautifulSoup(r.content, 'html.parser')\n",
    "\n",
    "s = soup.find_all('td')\n",
    "\n",
    "Company_name = s[0::13]\n",
    "Year = s[1::13]\n",
    "Jobs = s[2::13]\n",
    "State_wages = s[3::13]\n",
    "NSRP = s[4::13]\n",
    "Capx = s[5::13]\n",
    "Max_incentive  = s[6::13]\n",
    "Rebate_rate = s[7::13]\n",
    "Term_years = s[8::13]\n",
    "Prior_presence = s[9::13]\n",
    "Contract_status = s[10::13]\n",
    "Per_assessed = s[11::13]\n",
    "Per_issued = s[12::13]\n",
    "\n",
    "import pandas as pd\n",
    "\n",
    "def remove_html(list):\n",
    "    temp = []\n",
    "    for i in range(0,len(list)):\n",
    "        v = list[i].get_text()\n",
    "        temp.append(v)\n",
    "    return temp\n",
    "\n",
    "ic_utah = pd.DataFrame()\n",
    "ic_utah['Company_name'] = remove_html(Company_name)\n",
    "ic_utah['Year'] = remove_html(Year)\n",
    "ic_utah['Jobs'] = remove_html(Jobs)\n",
    "ic_utah['State_wages'] = remove_html(State_wages)\n",
    "ic_utah['NSRP'] = remove_html(NSRP)\n",
    "ic_utah['Capx'] = remove_html(Capx)\n",
    "ic_utah['Max_incentive'] = remove_html(Max_incentive)\n",
    "ic_utah['Rebate_rate'] = remove_html(Rebate_rate)\n",
    "ic_utah['Term_years'] = remove_html(Term_years)\n",
    "ic_utah['Prior_presence'] = remove_html(Prior_presence)\n",
    "ic_utah['Contract_status'] = remove_html(Contract_status)\n",
    "ic_utah['Per_assessed'] = remove_html(Per_assessed)\n",
    "ic_utah['Per_issued'] = remove_html(Per_issued)\n",
    "\n",
    "num_vals = [\"Year\",'Jobs','State_wages','NSRP','Capx',\"Max_incentive\",'Term_years']\n",
    "\n",
    "for i in num_vals:\n",
    "    for j in range(0,len(ic_utah)):\n",
    "        ic_utah[i][j] = ic_utah[i][j].replace(\",\",\"\")\n",
    "        ic_utah[i][j] = ic_utah[i][j].replace(\"$\",\"\")\n",
    "        if ic_utah[i][j] == \"Significant\":\n",
    "            ic_utah[i][j] = 10000000\n",
    "        if ic_utah[i][j] == \"10-15\":\n",
    "            ic_utah[i][j] = \"12\"\n",
    "        ic_utah[i][j] = float(ic_utah[i][j])\n",
    "\n",
    "\n",
    "ic_utah.to_csv(\"Utah_Historical_EDTIF_Participants.csv\")"
   ]
  },
  {
   "cell_type": "code",
   "execution_count": null,
   "id": "1294822a",
   "metadata": {},
   "outputs": [],
   "source": []
  }
 ],
 "metadata": {
  "kernelspec": {
   "display_name": "Python 3 (ipykernel)",
   "language": "python",
   "name": "python3"
  },
  "language_info": {
   "codemirror_mode": {
    "name": "ipython",
    "version": 3
   },
   "file_extension": ".py",
   "mimetype": "text/x-python",
   "name": "python",
   "nbconvert_exporter": "python",
   "pygments_lexer": "ipython3",
   "version": "3.11.3"
  }
 },
 "nbformat": 4,
 "nbformat_minor": 5
}
