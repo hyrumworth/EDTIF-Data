{
 "cells": [
  {
   "cell_type": "markdown",
   "id": "80f2c2ed",
   "metadata": {},
   "source": [
    "# Creat a Data Base"
   ]
  },
  {
   "cell_type": "code",
   "execution_count": null,
   "id": "023c306b",
   "metadata": {
    "scrolled": true
   },
   "outputs": [],
   "source": [
    "%run \"Web Extract EDTIF Approved Companies Utah.ipynb\"\n",
    "\n",
    "import sqlalchemy\n",
    "from sqlalchemy import create_engine\n",
    "import mysql.connector\n",
    "import pandas as pd\n",
    "print(sqlalchemy.__version__)\n",
    "\n",
    "mydb = mysql.connector.connect(host = \"NNN.N.NNN\", user = \"USER\",\n",
    "                               password = \"PASSWORD\")\n",
    "mycursor = mydb.cursor()\n",
    "mycursor. execute(\"CREATE DATABASE gov_incentives\")\n",
    "\n",
    "con_string = 'mysql://LOC:PASSWORDHOST/gov_incentives'\n",
    "engine = create_engine(con_string)\n",
    "ic_utah.to_sql('incentives',engine)"
   ]
  }
 ],
 "metadata": {
  "kernelspec": {
   "display_name": "Python 3 (ipykernel)",
   "language": "python",
   "name": "python3"
  },
  "language_info": {
   "codemirror_mode": {
    "name": "ipython",
    "version": 3
   },
   "file_extension": ".py",
   "mimetype": "text/x-python",
   "name": "python",
   "nbconvert_exporter": "python",
   "pygments_lexer": "ipython3",
   "version": "3.11.3"
  }
 },
 "nbformat": 4,
 "nbformat_minor": 5
}
